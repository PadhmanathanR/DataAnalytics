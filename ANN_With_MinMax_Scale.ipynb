{
  "nbformat": 4,
  "nbformat_minor": 0,
  "metadata": {
    "colab": {
      "name": "ANN With MinMax Scale.ipynb",
      "version": "0.3.2",
      "provenance": [],
      "collapsed_sections": []
    },
    "kernelspec": {
      "name": "python3",
      "display_name": "Python 3"
    }
  },
  "cells": [
    {
      "cell_type": "markdown",
      "metadata": {
        "id": "ViEDqudGaRbN",
        "colab_type": "text"
      },
      "source": [
        "#Simple ANN using keras\n",
        "\n",
        "*   Sequential creates a sequence of layers\n",
        "*   Dense creates a fully connected network\n",
        "\n"
      ]
    },
    {
      "cell_type": "code",
      "metadata": {
        "id": "18SppJESY164",
        "colab_type": "code",
        "colab": {}
      },
      "source": [
        "from keras.models import Sequential\n",
        "from keras.layers import Dense\n",
        "import numpy as np\n"
      ],
      "execution_count": 0,
      "outputs": []
    },
    {
      "cell_type": "code",
      "metadata": {
        "id": "htL0FMcibjl1",
        "colab_type": "code",
        "colab": {}
      },
      "source": [
        "from sklearn.datasets import load_iris\n",
        "from sklearn.preprocessing import StandardScaler,OneHotEncoder,MinMaxScaler\n",
        "from sklearn.model_selection import train_test_split"
      ],
      "execution_count": 0,
      "outputs": []
    },
    {
      "cell_type": "code",
      "metadata": {
        "id": "h3JVDDX8bsYx",
        "colab_type": "code",
        "colab": {}
      },
      "source": [
        "iris = load_iris()"
      ],
      "execution_count": 0,
      "outputs": []
    },
    {
      "cell_type": "code",
      "metadata": {
        "id": "xeTriLTObwgn",
        "colab_type": "code",
        "outputId": "d3f4de7d-8b38-4d63-a768-de07e8d982a2",
        "colab": {
          "base_uri": "https://localhost:8080/",
          "height": 51
        }
      },
      "source": [
        "print(iris.feature_names)\n",
        "print(iris.target_names)\n",
        "#print(iris.DESCR)\n",
        "#print(iris.data)"
      ],
      "execution_count": 0,
      "outputs": [
        {
          "output_type": "stream",
          "text": [
            "['sepal length (cm)', 'sepal width (cm)', 'petal length (cm)', 'petal width (cm)']\n",
            "['setosa' 'versicolor' 'virginica']\n"
          ],
          "name": "stdout"
        }
      ]
    },
    {
      "cell_type": "code",
      "metadata": {
        "id": "HM0EDqI7dBy-",
        "colab_type": "code",
        "colab": {}
      },
      "source": [
        "input_data = iris.data"
      ],
      "execution_count": 0,
      "outputs": []
    },
    {
      "cell_type": "code",
      "metadata": {
        "id": "qA4eQ2z4cPW8",
        "colab_type": "code",
        "colab": {}
      },
      "source": [
        "target_class = iris.target\n",
        "#iris['target']"
      ],
      "execution_count": 0,
      "outputs": []
    },
    {
      "cell_type": "markdown",
      "metadata": {
        "id": "YdMc0Va9ebEr",
        "colab_type": "text"
      },
      "source": [
        "###Use z-score normalization to convert data with mean 0 and variance 1"
      ]
    },
    {
      "cell_type": "code",
      "metadata": {
        "id": "x57GIpKJdSS-",
        "colab_type": "code",
        "colab": {}
      },
      "source": [
        "scaler = MinMaxScaler(feature_range=(-1,1))\n",
        "input_scaled = scaler.fit_transform(input_data)"
      ],
      "execution_count": 0,
      "outputs": []
    },
    {
      "cell_type": "code",
      "metadata": {
        "id": "fpKTaV2lmJ61",
        "colab_type": "code",
        "outputId": "3cda063e-8736-418f-f7e5-6ad5b26ac246",
        "colab": {
          "base_uri": "https://localhost:8080/",
          "height": 105
        }
      },
      "source": [
        "# One hot encoding\n",
        "enc = OneHotEncoder()\n",
        "hot_target_class = enc.fit_transform(target_class[:, np.newaxis]).toarray()"
      ],
      "execution_count": 0,
      "outputs": [
        {
          "output_type": "stream",
          "text": [
            "/usr/local/lib/python3.6/dist-packages/sklearn/preprocessing/_encoders.py:415: FutureWarning: The handling of integer data will change in version 0.22. Currently, the categories are determined based on the range [0, max(values)], while in the future they will be determined based on the unique values.\n",
            "If you want the future behaviour and silence this warning, you can specify \"categories='auto'\".\n",
            "In case you used a LabelEncoder before this OneHotEncoder to convert the categories to integers, then you can now use the OneHotEncoder directly.\n",
            "  warnings.warn(msg, FutureWarning)\n"
          ],
          "name": "stderr"
        }
      ]
    },
    {
      "cell_type": "markdown",
      "metadata": {
        "id": "tq7XYLCaeUHl",
        "colab_type": "text"
      },
      "source": [
        "###Split into training and testing data"
      ]
    },
    {
      "cell_type": "code",
      "metadata": {
        "id": "KLRqJfAdeg4d",
        "colab_type": "code",
        "colab": {}
      },
      "source": [
        "x_train,x_test,y_train,y_test = train_test_split(input_scaled,hot_target_class,test_size=0.3)\n",
        "#x_train\n",
        "#x_test"
      ],
      "execution_count": 0,
      "outputs": []
    },
    {
      "cell_type": "markdown",
      "metadata": {
        "id": "AVY3C-jEgwYC",
        "colab_type": "text"
      },
      "source": [
        "###Create model"
      ]
    },
    {
      "cell_type": "code",
      "metadata": {
        "id": "csEvoq30ZZbB",
        "colab_type": "code",
        "outputId": "3f9c13f3-b289-4bb5-b1da-b300675898a5",
        "colab": {
          "base_uri": "https://localhost:8080/",
          "height": 88
        }
      },
      "source": [
        "model = Sequential()"
      ],
      "execution_count": 0,
      "outputs": [
        {
          "output_type": "stream",
          "text": [
            "WARNING: Logging before flag parsing goes to stderr.\n",
            "W0820 05:34:29.878106 140369677911936 deprecation_wrapper.py:119] From /usr/local/lib/python3.6/dist-packages/keras/backend/tensorflow_backend.py:74: The name tf.get_default_graph is deprecated. Please use tf.compat.v1.get_default_graph instead.\n",
            "\n"
          ],
          "name": "stderr"
        }
      ]
    },
    {
      "cell_type": "markdown",
      "metadata": {
        "id": "SGe3Spzzaq7j",
        "colab_type": "text"
      },
      "source": [
        "###Can add any number of layers using model.add\n",
        "\n",
        "\n",
        "*   Compulsorily the first add function must have the parameter input_dim\n",
        "*   Default activation is linear function\n",
        "\n"
      ]
    },
    {
      "cell_type": "code",
      "metadata": {
        "id": "NHWkWPaPZfGP",
        "colab_type": "code",
        "outputId": "874c43a2-33c1-46d0-b976-3e824338fbb9",
        "colab": {
          "base_uri": "https://localhost:8080/",
          "height": 105
        }
      },
      "source": [
        "h1 = model.add(Dense(6,activation=\"relu\",input_dim=4))\n",
        "h2=model.add(Dense(5,activation=\"relu\"))\n",
        "h3=model.add(Dense(7,activation=\"relu\"))\n",
        "o = model.add(Dense(3,activation=\"softmax\"))\n",
        "\n"
      ],
      "execution_count": 0,
      "outputs": [
        {
          "output_type": "stream",
          "text": [
            "W0820 05:34:34.791339 140369677911936 deprecation_wrapper.py:119] From /usr/local/lib/python3.6/dist-packages/keras/backend/tensorflow_backend.py:517: The name tf.placeholder is deprecated. Please use tf.compat.v1.placeholder instead.\n",
            "\n",
            "W0820 05:34:34.806981 140369677911936 deprecation_wrapper.py:119] From /usr/local/lib/python3.6/dist-packages/keras/backend/tensorflow_backend.py:4138: The name tf.random_uniform is deprecated. Please use tf.random.uniform instead.\n",
            "\n"
          ],
          "name": "stderr"
        }
      ]
    },
    {
      "cell_type": "code",
      "metadata": {
        "id": "wopEmikabAz9",
        "colab_type": "code",
        "colab": {}
      },
      "source": [
        "###Compile model"
      ],
      "execution_count": 0,
      "outputs": []
    },
    {
      "cell_type": "code",
      "metadata": {
        "id": "EznBdyTqg4dj",
        "colab_type": "code",
        "outputId": "972d4140-d25c-4dfa-e9e0-0a888958fc35",
        "colab": {
          "base_uri": "https://localhost:8080/",
          "height": 105
        }
      },
      "source": [
        "model.compile(loss=\"categorical_crossentropy\",optimizer=\"Adam\",metrics=['accuracy'])"
      ],
      "execution_count": 0,
      "outputs": [
        {
          "output_type": "stream",
          "text": [
            "W0820 05:34:40.343328 140369677911936 deprecation_wrapper.py:119] From /usr/local/lib/python3.6/dist-packages/keras/optimizers.py:790: The name tf.train.Optimizer is deprecated. Please use tf.compat.v1.train.Optimizer instead.\n",
            "\n",
            "W0820 05:34:40.386940 140369677911936 deprecation_wrapper.py:119] From /usr/local/lib/python3.6/dist-packages/keras/backend/tensorflow_backend.py:3295: The name tf.log is deprecated. Please use tf.math.log instead.\n",
            "\n"
          ],
          "name": "stderr"
        }
      ]
    },
    {
      "cell_type": "code",
      "metadata": {
        "id": "9_fOn5emhQnS",
        "colab_type": "code",
        "outputId": "19578417-bcb3-465c-8175-694922b8f7e5",
        "colab": {
          "base_uri": "https://localhost:8080/",
          "height": 272
        }
      },
      "source": [
        "model.summary()"
      ],
      "execution_count": 0,
      "outputs": [
        {
          "output_type": "stream",
          "text": [
            "_________________________________________________________________\n",
            "Layer (type)                 Output Shape              Param #   \n",
            "=================================================================\n",
            "dense_1 (Dense)              (None, 6)                 30        \n",
            "_________________________________________________________________\n",
            "dense_2 (Dense)              (None, 5)                 35        \n",
            "_________________________________________________________________\n",
            "dense_3 (Dense)              (None, 7)                 42        \n",
            "_________________________________________________________________\n",
            "dense_4 (Dense)              (None, 3)                 24        \n",
            "=================================================================\n",
            "Total params: 131\n",
            "Trainable params: 131\n",
            "Non-trainable params: 0\n",
            "_________________________________________________________________\n"
          ],
          "name": "stdout"
        }
      ]
    },
    {
      "cell_type": "markdown",
      "metadata": {
        "id": "LjOAs9liiLLt",
        "colab_type": "text"
      },
      "source": [
        "###Fit model\n",
        "\n",
        "*   Epoch - how many passes through the training dataset\n",
        "*   Batch - how many samples to consider before updating the weights\n",
        "\n"
      ]
    },
    {
      "cell_type": "code",
      "metadata": {
        "id": "Rgx38Bluifd2",
        "colab_type": "code",
        "outputId": "a4f9237a-4ef5-4326-ba14-12a78a4fafe8",
        "colab": {
          "base_uri": "https://localhost:8080/",
          "height": 1000
        }
      },
      "source": [
        "model.fit(x_train,y_train,batch_size=10,epochs=50)"
      ],
      "execution_count": 0,
      "outputs": [
        {
          "output_type": "stream",
          "text": [
            "W0820 05:34:45.087638 140369677911936 deprecation.py:323] From /usr/local/lib/python3.6/dist-packages/tensorflow/python/ops/math_grad.py:1250: add_dispatch_support.<locals>.wrapper (from tensorflow.python.ops.array_ops) is deprecated and will be removed in a future version.\n",
            "Instructions for updating:\n",
            "Use tf.where in 2.0, which has the same broadcast rule as np.where\n",
            "W0820 05:34:45.150149 140369677911936 deprecation_wrapper.py:119] From /usr/local/lib/python3.6/dist-packages/keras/backend/tensorflow_backend.py:986: The name tf.assign_add is deprecated. Please use tf.compat.v1.assign_add instead.\n",
            "\n"
          ],
          "name": "stderr"
        },
        {
          "output_type": "stream",
          "text": [
            "Epoch 1/50\n",
            "105/105 [==============================] - 1s 7ms/step - loss: 1.0787 - acc: 0.6095\n",
            "Epoch 2/50\n",
            "105/105 [==============================] - 0s 186us/step - loss: 1.0585 - acc: 0.7143\n",
            "Epoch 3/50\n",
            "105/105 [==============================] - 0s 207us/step - loss: 1.0371 - acc: 0.7524\n",
            "Epoch 4/50\n",
            "105/105 [==============================] - 0s 173us/step - loss: 1.0148 - acc: 0.7905\n",
            "Epoch 5/50\n",
            "105/105 [==============================] - 0s 176us/step - loss: 0.9914 - acc: 0.7905\n",
            "Epoch 6/50\n",
            "105/105 [==============================] - 0s 180us/step - loss: 0.9653 - acc: 0.7714\n",
            "Epoch 7/50\n",
            "105/105 [==============================] - 0s 168us/step - loss: 0.9378 - acc: 0.7619\n",
            "Epoch 8/50\n",
            "105/105 [==============================] - 0s 204us/step - loss: 0.9050 - acc: 0.7524\n",
            "Epoch 9/50\n",
            "105/105 [==============================] - 0s 212us/step - loss: 0.8725 - acc: 0.7429\n",
            "Epoch 10/50\n",
            "105/105 [==============================] - 0s 179us/step - loss: 0.8399 - acc: 0.7429\n",
            "Epoch 11/50\n",
            "105/105 [==============================] - 0s 194us/step - loss: 0.8039 - acc: 0.7429\n",
            "Epoch 12/50\n",
            "105/105 [==============================] - 0s 179us/step - loss: 0.7684 - acc: 0.7524\n",
            "Epoch 13/50\n",
            "105/105 [==============================] - 0s 189us/step - loss: 0.7344 - acc: 0.7619\n",
            "Epoch 14/50\n",
            "105/105 [==============================] - 0s 210us/step - loss: 0.7006 - acc: 0.7524\n",
            "Epoch 15/50\n",
            "105/105 [==============================] - 0s 176us/step - loss: 0.6686 - acc: 0.7524\n",
            "Epoch 16/50\n",
            "105/105 [==============================] - 0s 224us/step - loss: 0.6385 - acc: 0.7429\n",
            "Epoch 17/50\n",
            "105/105 [==============================] - 0s 213us/step - loss: 0.6110 - acc: 0.7524\n",
            "Epoch 18/50\n",
            "105/105 [==============================] - 0s 176us/step - loss: 0.5853 - acc: 0.7524\n",
            "Epoch 19/50\n",
            "105/105 [==============================] - 0s 191us/step - loss: 0.5622 - acc: 0.7524\n",
            "Epoch 20/50\n",
            "105/105 [==============================] - 0s 200us/step - loss: 0.5392 - acc: 0.7810\n",
            "Epoch 21/50\n",
            "105/105 [==============================] - 0s 241us/step - loss: 0.5172 - acc: 0.8000\n",
            "Epoch 22/50\n",
            "105/105 [==============================] - 0s 197us/step - loss: 0.4930 - acc: 0.8000\n",
            "Epoch 23/50\n",
            "105/105 [==============================] - 0s 185us/step - loss: 0.4697 - acc: 0.8286\n",
            "Epoch 24/50\n",
            "105/105 [==============================] - 0s 181us/step - loss: 0.4511 - acc: 0.8476\n",
            "Epoch 25/50\n",
            "105/105 [==============================] - 0s 204us/step - loss: 0.4354 - acc: 0.8476\n",
            "Epoch 26/50\n",
            "105/105 [==============================] - 0s 180us/step - loss: 0.4202 - acc: 0.8476\n",
            "Epoch 27/50\n",
            "105/105 [==============================] - 0s 214us/step - loss: 0.4065 - acc: 0.8571\n",
            "Epoch 28/50\n",
            "105/105 [==============================] - 0s 196us/step - loss: 0.3939 - acc: 0.8571\n",
            "Epoch 29/50\n",
            "105/105 [==============================] - 0s 217us/step - loss: 0.3818 - acc: 0.8762\n",
            "Epoch 30/50\n",
            "105/105 [==============================] - 0s 200us/step - loss: 0.3700 - acc: 0.8857\n",
            "Epoch 31/50\n",
            "105/105 [==============================] - 0s 176us/step - loss: 0.3589 - acc: 0.8857\n",
            "Epoch 32/50\n",
            "105/105 [==============================] - 0s 223us/step - loss: 0.3481 - acc: 0.8952\n",
            "Epoch 33/50\n",
            "105/105 [==============================] - 0s 176us/step - loss: 0.3380 - acc: 0.8952\n",
            "Epoch 34/50\n",
            "105/105 [==============================] - 0s 167us/step - loss: 0.3278 - acc: 0.8952\n",
            "Epoch 35/50\n",
            "105/105 [==============================] - 0s 232us/step - loss: 0.3169 - acc: 0.8952\n",
            "Epoch 36/50\n",
            "105/105 [==============================] - 0s 218us/step - loss: 0.3068 - acc: 0.9333\n",
            "Epoch 37/50\n",
            "105/105 [==============================] - 0s 212us/step - loss: 0.2955 - acc: 0.9333\n",
            "Epoch 38/50\n",
            "105/105 [==============================] - 0s 182us/step - loss: 0.2846 - acc: 0.9429\n",
            "Epoch 39/50\n",
            "105/105 [==============================] - 0s 189us/step - loss: 0.2731 - acc: 0.9429\n",
            "Epoch 40/50\n",
            "105/105 [==============================] - 0s 169us/step - loss: 0.2621 - acc: 0.9429\n",
            "Epoch 41/50\n",
            "105/105 [==============================] - 0s 242us/step - loss: 0.2516 - acc: 0.9429\n",
            "Epoch 42/50\n",
            "105/105 [==============================] - 0s 177us/step - loss: 0.2406 - acc: 0.9524\n",
            "Epoch 43/50\n",
            "105/105 [==============================] - 0s 172us/step - loss: 0.2293 - acc: 0.9524\n",
            "Epoch 44/50\n",
            "105/105 [==============================] - 0s 185us/step - loss: 0.2208 - acc: 0.9524\n",
            "Epoch 45/50\n",
            "105/105 [==============================] - 0s 204us/step - loss: 0.2090 - acc: 0.9714\n",
            "Epoch 46/50\n",
            "105/105 [==============================] - 0s 160us/step - loss: 0.2013 - acc: 0.9810\n",
            "Epoch 47/50\n",
            "105/105 [==============================] - 0s 168us/step - loss: 0.1907 - acc: 0.9810\n",
            "Epoch 48/50\n",
            "105/105 [==============================] - 0s 167us/step - loss: 0.1830 - acc: 0.9810\n",
            "Epoch 49/50\n",
            "105/105 [==============================] - 0s 178us/step - loss: 0.1731 - acc: 0.9810\n",
            "Epoch 50/50\n",
            "105/105 [==============================] - 0s 182us/step - loss: 0.1655 - acc: 0.9810\n"
          ],
          "name": "stdout"
        },
        {
          "output_type": "execute_result",
          "data": {
            "text/plain": [
              "<keras.callbacks.History at 0x7faa1aaded68>"
            ]
          },
          "metadata": {
            "tags": []
          },
          "execution_count": 25
        }
      ]
    },
    {
      "cell_type": "code",
      "metadata": {
        "id": "Q5LjdqvPjThF",
        "colab_type": "code",
        "outputId": "2e23d2f9-53b5-451c-8fd8-e5e7bb1d1355",
        "colab": {
          "base_uri": "https://localhost:8080/",
          "height": 51
        }
      },
      "source": [
        " score = model.evaluate(x_test,y_test, verbose=0)\n",
        " print('Test loss:', score[0])\n",
        " print('Test accuracy:', score[1])"
      ],
      "execution_count": 0,
      "outputs": [
        {
          "output_type": "stream",
          "text": [
            "Test loss: 0.1803905338048935\n",
            "Test accuracy: 0.9111111137602065\n"
          ],
          "name": "stdout"
        }
      ]
    },
    {
      "cell_type": "code",
      "metadata": {
        "id": "x_pAG7IFnnqv",
        "colab_type": "code",
        "colab": {}
      },
      "source": [
        ""
      ],
      "execution_count": 0,
      "outputs": []
    }
  ]
}