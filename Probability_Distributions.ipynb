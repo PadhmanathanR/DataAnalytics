{
  "nbformat": 4,
  "nbformat_minor": 0,
  "metadata": {
    "colab": {
      "name": "Probability_Distributions.ipynb",
      "version": "0.3.2",
      "provenance": [],
      "collapsed_sections": []
    },
    "kernelspec": {
      "name": "python3",
      "display_name": "Python 3"
    }
  },
  "cells": [
    {
      "cell_type": "code",
      "metadata": {
        "id": "wnrAKeNjs2yi",
        "colab_type": "code",
        "outputId": "fbf09c45-38c9-4533-a765-fd1a64eb2008",
        "colab": {
          "base_uri": "https://localhost:8080/",
          "height": 286
        }
      },
      "source": [
        "#NORMAL DISTRIBUTION\n",
        "import numpy as np \n",
        "import matplotlib.pyplot as plt\n",
        "\n",
        "values= np.random.normal(100,15, 10000)\n",
        "print(values.shape)\n",
        "plt.hist(values,100,density=True)\n",
        "plt.show()"
      ],
      "execution_count": 0,
      "outputs": [
        {
          "output_type": "stream",
          "text": [
            "(10000,)\n"
          ],
          "name": "stdout"
        },
        {
          "output_type": "display_data",
          "data": {
            "image/png": "[encoded data removed]",
            "text/plain": [
              "<Figure size 432x288 with 1 Axes>"
            ]
          },
          "metadata": {
            "tags": []
          }
        }
      ]
    },
    {
      "cell_type": "code",
      "metadata": {
        "id": "--xEv-PUtIOb",
        "colab_type": "code",
        "outputId": "0cca3e59-1f9d-458a-e6f4-6a5293cd53ef",
        "colab": {
          "base_uri": "https://localhost:8080/",
          "height": 269
        }
      },
      "source": [
        "#UNIFORM DISTRIBUTION\n",
        "s = np.random.uniform(-5,10,1000)\n",
        "count, bins, ignored = plt.hist(s, 60,density=True)\n",
        "plt.show()"
      ],
      "execution_count": 0,
      "outputs": [
        {
          "output_type": "display_data",
          "data": {
            "image/png": "[encoded data removed]",
            "text/plain": [
              "<Figure size 432x288 with 1 Axes>"
            ]
          },
          "metadata": {
            "tags": []
          }
        }
      ]
    },
    {
      "cell_type": "code",
      "metadata": {
        "id": "ELyjIN4FtNHQ",
        "colab_type": "code",
        "outputId": "9671399f-2459-4d31-f98d-726797bdd482",
        "colab": {
          "base_uri": "https://localhost:8080/",
          "height": 269
        }
      },
      "source": [
        "#POISSON DISTRIBUTION\n",
        "pois = np.random.poisson(7.4, 10000)\n",
        "plt.hist(pois, 10,density=True)\n",
        "plt.show()"
      ],
      "execution_count": 0,
      "outputs": [
        {
          "output_type": "display_data",
          "data": {
            "image/png": "[encoded data removed]",
            "text/plain": [
              "<Figure size 432x288 with 1 Axes>"
            ]
          },
          "metadata": {
            "tags": []
          }
        }
      ]
    },
    {
      "cell_type": "code",
      "metadata": {
        "id": "K7Pkcy1btTZc",
        "colab_type": "code",
        "outputId": "c10811c9-0f58-416c-d41c-0b2bfc6ba2e3",
        "colab": {
          "base_uri": "https://localhost:8080/",
          "height": 269
        }
      },
      "source": [
        "#BINOMIAL DISTRIBUTION\n",
        "n=100\n",
        "p=0.1667\n",
        "binom = np.random.binomial(n, p, 10000)\n",
        "plt.hist(binom,20,density=True)\n",
        "plt.show()"
      ],
      "execution_count": 0,
      "outputs": [
        {
          "output_type": "display_data",
          "data": {
            "image/png": "[encoded data removed]",
            "text/plain": [
              "<Figure size 432x288 with 1 Axes>"
            ]
          },
          "metadata": {
            "tags": []
          }
        }
      ]
    },
    {
      "cell_type": "code",
      "metadata": {
        "id": "c-ZOQGKQugqx",
        "colab_type": "code",
        "outputId": "ddba5044-8681-4a33-f2e1-85e25880f370",
        "colab": {
          "base_uri": "https://localhost:8080/",
          "height": 269
        }
      },
      "source": [
        "#EXPONENTIAL DISTRIBUTION\n",
        "target = 250\n",
        "beta = 1.0/target\n",
        "Y = np.random.exponential(beta, 5000)\n",
        "plt.hist(Y, bins=200,lw=0,alpha=.8)\n",
        "plt.plot([0,max(Y)],[target,target],'r--')\n",
        "plt.ylim(0,target*1.1)\n",
        "plt.show()"
      ],
      "execution_count": 0,
      "outputs": [
        {
          "output_type": "display_data",
          "data": {
            "image/png": "[encoded data removed]",
            "text/plain": [
              "<Figure size 432x288 with 1 Axes>"
            ]
          },
          "metadata": {
            "tags": []
          }
        }
      ]
    },
    {
      "cell_type": "code",
      "metadata": {
        "id": "Q9zAHh5yujEP",
        "colab_type": "code",
        "outputId": "f2d5b582-df04-46bf-f05f-97bafe7e3518",
        "colab": {
          "base_uri": "https://localhost:8080/",
          "height": 269
        }
      },
      "source": [
        "#RANDOM DISTRIBUTION\n",
        "ran=np.random.choice(range(5000,10000),100)\n",
        "ran\n",
        "plt.hist(ran,5)\n",
        "plt.show()"
      ],
      "execution_count": 0,
      "outputs": [
        {
          "output_type": "display_data",
          "data": {
            "image/png": "[encoded data removed]",
            "text/plain": [
              "<Figure size 432x288 with 1 Axes>"
            ]
          },
          "metadata": {
            "tags": []
          }
        }
      ]
    }
  ]
}