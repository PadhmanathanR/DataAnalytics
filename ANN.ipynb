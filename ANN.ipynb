{
  "nbformat": 4,
  "nbformat_minor": 0,
  "metadata": {
    "colab": {
      "name": "ANN.ipynb",
      "version": "0.3.2",
      "provenance": [],
      "collapsed_sections": []
    },
    "kernelspec": {
      "name": "python3",
      "display_name": "Python 3"
    }
  },
  "cells": [
    {
      "cell_type": "code",
      "metadata": {
        "id": "TV9f2-UVfOP9",
        "colab_type": "code",
        "colab": {}
      },
      "source": [
        "from keras.models import Sequential\n",
        "from keras.layers import Dense\n",
        "import numpy as np\n",
        "from keras import optimizers"
      ],
      "execution_count": 0,
      "outputs": []
    },
    {
      "cell_type": "code",
      "metadata": {
        "id": "rdxEpwiIfim_",
        "colab_type": "code",
        "colab": {}
      },
      "source": [
        "model=Sequential()"
      ],
      "execution_count": 0,
      "outputs": []
    },
    {
      "cell_type": "code",
      "metadata": {
        "id": "R58ardDAgmD8",
        "colab_type": "code",
        "colab": {}
      },
      "source": [
        "model.add(Dense(2,activation=\"sigmoid\",input_dim=3))\n",
        "model.add(Dense(3,activation=\"sigmoid\"))\n",
        "model.add(Dense(2))"
      ],
      "execution_count": 0,
      "outputs": []
    },
    {
      "cell_type": "code",
      "metadata": {
        "id": "erdV85kqjHt3",
        "colab_type": "code",
        "outputId": "09ec5c33-e5bc-4805-ca68-8de0030f4943",
        "colab": {
          "base_uri": "https://localhost:8080/",
          "height": 139
        }
      },
      "source": [
        "model.layers[0].get_weights()"
      ],
      "execution_count": 0,
      "outputs": [
        {
          "output_type": "stream",
          "text": [
            "W0827 06:16:12.411241 140500848048000 deprecation_wrapper.py:119] From /usr/local/lib/python3.6/dist-packages/keras/backend/tensorflow_backend.py:174: The name tf.get_default_session is deprecated. Please use tf.compat.v1.get_default_session instead.\n",
            "\n"
          ],
          "name": "stderr"
        },
        {
          "output_type": "execute_result",
          "data": {
            "text/plain": [
              "[array([[ 0.04714382,  0.46253264],\n",
              "        [ 0.8720169 ,  0.68789184],\n",
              "        [-0.30487287,  0.87167144]], dtype=float32),\n",
              " array([0., 0.], dtype=float32)]"
            ]
          },
          "metadata": {
            "tags": []
          },
          "execution_count": 46
        }
      ]
    },
    {
      "cell_type": "code",
      "metadata": {
        "id": "UJZnN6Pijlaw",
        "colab_type": "code",
        "colab": {}
      },
      "source": [
        "w12=np.array([[0.2,-0.3],[0.4,0.1],[-0.5,0.2]])\n",
        "b1=np.array([0.4,0.2])\n",
        "weights1=[w12,b1]\n",
        "weights1\n",
        "\n",
        "model.layers[0].set_weights(weights1)"
      ],
      "execution_count": 0,
      "outputs": []
    },
    {
      "cell_type": "code",
      "metadata": {
        "id": "8yrHG2R-sDzW",
        "colab_type": "code",
        "outputId": "e3b5223a-feaf-449d-a0a7-520b0dca6899",
        "colab": {
          "base_uri": "https://localhost:8080/",
          "height": 68
        }
      },
      "source": [
        "model.layers[1].get_weights()"
      ],
      "execution_count": 0,
      "outputs": [
        {
          "output_type": "execute_result",
          "data": {
            "text/plain": [
              "[array([[-1.046594  , -1.0375634 , -1.0319811 ],\n",
              "        [-0.02674246,  0.27449644,  0.00653899]], dtype=float32),\n",
              " array([0., 0., 0.], dtype=float32)]"
            ]
          },
          "metadata": {
            "tags": []
          },
          "execution_count": 48
        }
      ]
    },
    {
      "cell_type": "code",
      "metadata": {
        "id": "ZtmgEKvwog-_",
        "colab_type": "code",
        "colab": {}
      },
      "source": [
        "w23=np.array([[-0.3,0.2,0.6],[-0.2,-0.1,-0.2]])\n",
        "b2=np.array([0.1,0.1,0.2])\n",
        "weights2=[w23,b2]\n",
        "weights2\n",
        "\n",
        "model.layers[1].set_weights(weights2)"
      ],
      "execution_count": 0,
      "outputs": []
    },
    {
      "cell_type": "code",
      "metadata": {
        "id": "uiCUctZ_uKfW",
        "colab_type": "code",
        "outputId": "4c20125c-e9ad-46f3-d7ae-3be6b9efb998",
        "colab": {
          "base_uri": "https://localhost:8080/",
          "height": 85
        }
      },
      "source": [
        "model.layers[2].get_weights()"
      ],
      "execution_count": 0,
      "outputs": [
        {
          "output_type": "execute_result",
          "data": {
            "text/plain": [
              "[array([[-0.46190536,  0.66487503],\n",
              "        [-0.65922916,  0.03750181],\n",
              "        [ 0.9437134 ,  0.7035314 ]], dtype=float32),\n",
              " array([0., 0.], dtype=float32)]"
            ]
          },
          "metadata": {
            "tags": []
          },
          "execution_count": 50
        }
      ]
    },
    {
      "cell_type": "code",
      "metadata": {
        "id": "BfOZAUAhuPd7",
        "colab_type": "code",
        "colab": {}
      },
      "source": [
        "w34=np.array([[0.3,0.2],[-0.5,0.5],[-0.7,0.2]])\n",
        "b4=np.array([0.1,0.2])\n",
        "weights3=[w34,b4]\n",
        "weights3\n",
        "\n",
        "model.layers[2].set_weights(weights3)"
      ],
      "execution_count": 0,
      "outputs": []
    },
    {
      "cell_type": "code",
      "metadata": {
        "id": "E2260VrIuTep",
        "colab_type": "code",
        "colab": {}
      },
      "source": [
        "\n",
        "sgd = optimizers.SGD(lr=0.9)\n",
        "model.compile(loss='mean_squared_error', optimizer=sgd,metrics=['accuracy'])"
      ],
      "execution_count": 0,
      "outputs": []
    },
    {
      "cell_type": "code",
      "metadata": {
        "id": "guAbzYf7uYKS",
        "colab_type": "code",
        "outputId": "2a8b14c8-da60-4f2a-98d2-788a8dd3c8e9",
        "colab": {
          "base_uri": "https://localhost:8080/",
          "height": 68
        }
      },
      "source": [
        "x=np.array([[1,0,1]])\n",
        "y=np.array([[1,0]])\n",
        "model.fit(x,y,epochs=1)\n"
      ],
      "execution_count": 0,
      "outputs": [
        {
          "output_type": "stream",
          "text": [
            "Epoch 1/1\n",
            "1/1 [==============================] - 1s 508ms/step - loss: 0.7150 - acc: 1.0000\n"
          ],
          "name": "stdout"
        },
        {
          "output_type": "execute_result",
          "data": {
            "text/plain": [
              "<keras.callbacks.History at 0x7fc8a855ea20>"
            ]
          },
          "metadata": {
            "tags": []
          },
          "execution_count": 54
        }
      ]
    },
    {
      "cell_type": "code",
      "metadata": {
        "id": "Hs1SQj-NufSR",
        "colab_type": "code",
        "outputId": "eb35cb11-249a-403d-c94f-dd2a47e6d1b4",
        "colab": {
          "base_uri": "https://localhost:8080/",
          "height": 459
        }
      },
      "source": [
        "for i in range(3):\n",
        "  print(model.layers[i].get_weights())\n",
        "  print(\"\\n\\n\\n\\n\\n\")"
      ],
      "execution_count": 0,
      "outputs": [
        {
          "output_type": "stream",
          "text": [
            "[array([[ 0.2, -0.3],\n",
            "       [ 0.4,  0.1],\n",
            "       [-0.5,  0.2]], dtype=float32), array([0.4, 0.2], dtype=float32)]\n",
            "\n",
            "\n",
            "\n",
            "\n",
            "\n",
            "\n",
            "[array([[-0.3       ,  0.19999999,  0.6       ],\n",
            "       [-0.2       , -0.10000002, -0.20000002]], dtype=float32), array([0.1       , 0.09999998, 0.19999999], dtype=float32)]\n",
            "\n",
            "\n",
            "\n",
            "\n",
            "\n",
            "\n",
            "[array([[ 0.30000004,  0.19999996],\n",
            "       [-0.49999997,  0.49999994],\n",
            "       [-0.6999999 ,  0.19999993]], dtype=float32), array([0.10000008, 0.19999988], dtype=float32)]\n",
            "\n",
            "\n",
            "\n",
            "\n",
            "\n",
            "\n"
          ],
          "name": "stdout"
        }
      ]
    },
    {
      "cell_type": "code",
      "metadata": {
        "id": "Vfrlj_dpujd8",
        "colab_type": "code",
        "outputId": "e1212163-4681-4375-dfe6-0cc5c9b1e48a",
        "colab": {
          "base_uri": "https://localhost:8080/",
          "height": 85
        }
      },
      "source": [
        "wup1=[x1 - x2 for (x1, x2) in zip(weights1, model.layers[0].get_weights())]\n",
        "wup1\n"
      ],
      "execution_count": 0,
      "outputs": [
        {
          "output_type": "execute_result",
          "data": {
            "text/plain": [
              "[array([[-2.98023223e-09,  1.19209290e-08],\n",
              "        [-5.96046446e-09, -1.49011611e-09],\n",
              "        [ 0.00000000e+00, -2.98023223e-09]]),\n",
              " array([-5.96046446e-09, -2.98023223e-09])]"
            ]
          },
          "metadata": {
            "tags": []
          },
          "execution_count": 58
        }
      ]
    },
    {
      "cell_type": "code",
      "metadata": {
        "id": "GVlYredevU5y",
        "colab_type": "code",
        "outputId": "e23c99a3-3d90-4b7c-c672-9842b55d65ec",
        "colab": {
          "base_uri": "https://localhost:8080/",
          "height": 68
        }
      },
      "source": [
        "wup2=[x1 - x2 for (x1, x2) in zip(weights2, model.layers[1].get_weights())]\n",
        "wup2"
      ],
      "execution_count": 0,
      "outputs": [
        {
          "output_type": "execute_result",
          "data": {
            "text/plain": [
              "[array([[ 1.19209290e-08,  1.19209290e-08, -2.38418579e-08],\n",
              "        [ 2.98023223e-09,  1.63912773e-08,  1.78813934e-08]]),\n",
              " array([-1.49011611e-09,  2.08616257e-08,  1.19209290e-08])]"
            ]
          },
          "metadata": {
            "tags": []
          },
          "execution_count": 59
        }
      ]
    },
    {
      "cell_type": "code",
      "metadata": {
        "id": "XxqMltacvehJ",
        "colab_type": "code",
        "outputId": "d0328e06-a6f3-491b-a2f1-06b17aa6de8c",
        "colab": {
          "base_uri": "https://localhost:8080/",
          "height": 85
        }
      },
      "source": [
        "wup3=[x1 - x2 for (x1, x2) in zip(weights3, model.layers[2].get_weights())]\n",
        "wup3"
      ],
      "execution_count": 0,
      "outputs": [
        {
          "output_type": "execute_result",
          "data": {
            "text/plain": [
              "[array([[-4.17232514e-08,  4.17232514e-08],\n",
              "        [-2.98023224e-08,  5.96046448e-08],\n",
              "        [-7.15255737e-08,  7.15255737e-08]]),\n",
              " array([-7.59959221e-08,  1.16229057e-07])]"
            ]
          },
          "metadata": {
            "tags": []
          },
          "execution_count": 60
        }
      ]
    }
  ]
}